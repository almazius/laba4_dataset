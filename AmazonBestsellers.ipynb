{
  "nbformat": 4,
  "nbformat_minor": 0,
  "metadata": {
    "colab": {
      "provenance": [],
      "toc_visible": true,
      "include_colab_link": true
    },
    "kernelspec": {
      "name": "python3",
      "display_name": "Python 3"
    },
    "language_info": {
      "name": "python"
    }
  },
  "cells": [
    {
      "cell_type": "markdown",
      "metadata": {
        "id": "view-in-github",
        "colab_type": "text"
      },
      "source": [
        "<a href=\"https://colab.research.google.com/github/almazius/laba4_dataset/blob/main/AmazonBestsellers.ipynb\" target=\"_parent\"><img src=\"https://colab.research.google.com/assets/colab-badge.svg\" alt=\"Open In Colab\"/></a>"
      ]
    },
    {
      "cell_type": "markdown",
      "source": [
        "# Анализ книг-бестселлеров Амазона"
      ],
      "metadata": {
        "id": "94odHySx_LMg"
      }
    },
    {
      "cell_type": "markdown",
      "source": [
        "## Data:  \n",
        "- Unnamed: 0: the index of the books in the order they were scrapped\n",
        "- Price: the price of each book\n",
        "- Rank: the ranking of each book in the top 100 best-selling books for each year\n",
        "- Title: the title of the book\n",
        "- No of reviews: this is the total number of reviews a book has\n",
        "- Rating: this is the user rating that a book has\n",
        "- Author: this is the name of the author of a book\n",
        "- Cover type: this is the cover type of each book\n",
        "- Year: this is the year each book appeared as a best-selling book\n",
        "- Genre: this is the category or type of book (Fiction or Non-Fiction)"
      ],
      "metadata": {
        "id": "-t5_h78f_A0_"
      }
    },
    {
      "cell_type": "code",
      "execution_count": null,
      "metadata": {
        "id": "nW5LjnVW81m2"
      },
      "outputs": [],
      "source": [
        "import numpy as np\n",
        "import pandas as pd\n",
        "import matplotlib.pyplot as plt\n",
        "import seaborn as sns\n",
        "import warnings\n",
        "\n",
        "warnings.filterwarnings('ignore')"
      ]
    },
    {
      "cell_type": "code",
      "source": [
        "df = pd.read_excel(\"Amazon_top100_bestselling_books_2009to2021.xlsx\", index_col=0)\n",
        "df = df.drop([\"ranks\"], axis = 1)\n",
        "df.head(10)"
      ],
      "metadata": {
        "colab": {
          "base_uri": "https://localhost:8080/",
          "height": 363
        },
        "id": "ngnCOcCF882i",
        "outputId": "89693689-ad0c-4e6d-b185-30b7ca82aeae"
      },
      "execution_count": null,
      "outputs": [
        {
          "output_type": "execute_result",
          "data": {
            "text/plain": [
              "   price                                          title  no_of_reviews  \\\n",
              "0  12.49                                The Lost Symbol        16118.0   \n",
              "1  13.40    The Shack: Where Tragedy Confronts Eternity        23392.0   \n",
              "2   9.93  Liberty and Tyranny: A Conservative Manifesto         5036.0   \n",
              "3  14.30      Breaking Dawn (The Twilight Saga, Book 4)        16912.0   \n",
              "4   9.99                  Going Rogue: An American Life         1572.0   \n",
              "5  18.29                            StrengthsFinder 2.0         7082.0   \n",
              "6  12.66                                       The Help        18068.0   \n",
              "7  17.56                   New Moon (The Twilight Saga)        12329.0   \n",
              "8  58.90                   The Twilight Saga Collection         6100.0   \n",
              "9  16.04                 Outliers: The Story of Success        22209.0   \n",
              "\n",
              "   ratings            author cover_type  year        genre  \n",
              "0      4.4         Dan Brown  Hardcover  2009      Fiction  \n",
              "1      4.7  William P. Young  Paperback  2009      Fiction  \n",
              "2      4.8     Mark R. Levin  Hardcover  2009  Non Fiction  \n",
              "3      4.7   Stephenie Meyer  Hardcover  2009      Fiction  \n",
              "4      4.6       Sarah Palin  Hardcover  2009  Non Fiction  \n",
              "5      4.1            Gallup  Hardcover  2009  Non Fiction  \n",
              "6      4.8  Kathryn Stockett  Hardcover  2009      Fiction  \n",
              "7      4.7   Stephenie Meyer  Paperback  2009      Fiction  \n",
              "8      4.7   Stephenie Meyer  Hardcover  2009      Fiction  \n",
              "9      4.7  Malcolm Gladwell  Hardcover  2009  Non Fiction  "
            ],
            "text/html": [
              "\n",
              "  <div id=\"df-71d60194-6914-4797-994a-44fca783ab3a\">\n",
              "    <div class=\"colab-df-container\">\n",
              "      <div>\n",
              "<style scoped>\n",
              "    .dataframe tbody tr th:only-of-type {\n",
              "        vertical-align: middle;\n",
              "    }\n",
              "\n",
              "    .dataframe tbody tr th {\n",
              "        vertical-align: top;\n",
              "    }\n",
              "\n",
              "    .dataframe thead th {\n",
              "        text-align: right;\n",
              "    }\n",
              "</style>\n",
              "<table border=\"1\" class=\"dataframe\">\n",
              "  <thead>\n",
              "    <tr style=\"text-align: right;\">\n",
              "      <th></th>\n",
              "      <th>price</th>\n",
              "      <th>title</th>\n",
              "      <th>no_of_reviews</th>\n",
              "      <th>ratings</th>\n",
              "      <th>author</th>\n",
              "      <th>cover_type</th>\n",
              "      <th>year</th>\n",
              "      <th>genre</th>\n",
              "    </tr>\n",
              "  </thead>\n",
              "  <tbody>\n",
              "    <tr>\n",
              "      <th>0</th>\n",
              "      <td>12.49</td>\n",
              "      <td>The Lost Symbol</td>\n",
              "      <td>16118.0</td>\n",
              "      <td>4.4</td>\n",
              "      <td>Dan Brown</td>\n",
              "      <td>Hardcover</td>\n",
              "      <td>2009</td>\n",
              "      <td>Fiction</td>\n",
              "    </tr>\n",
              "    <tr>\n",
              "      <th>1</th>\n",
              "      <td>13.40</td>\n",
              "      <td>The Shack: Where Tragedy Confronts Eternity</td>\n",
              "      <td>23392.0</td>\n",
              "      <td>4.7</td>\n",
              "      <td>William P. Young</td>\n",
              "      <td>Paperback</td>\n",
              "      <td>2009</td>\n",
              "      <td>Fiction</td>\n",
              "    </tr>\n",
              "    <tr>\n",
              "      <th>2</th>\n",
              "      <td>9.93</td>\n",
              "      <td>Liberty and Tyranny: A Conservative Manifesto</td>\n",
              "      <td>5036.0</td>\n",
              "      <td>4.8</td>\n",
              "      <td>Mark R. Levin</td>\n",
              "      <td>Hardcover</td>\n",
              "      <td>2009</td>\n",
              "      <td>Non Fiction</td>\n",
              "    </tr>\n",
              "    <tr>\n",
              "      <th>3</th>\n",
              "      <td>14.30</td>\n",
              "      <td>Breaking Dawn (The Twilight Saga, Book 4)</td>\n",
              "      <td>16912.0</td>\n",
              "      <td>4.7</td>\n",
              "      <td>Stephenie Meyer</td>\n",
              "      <td>Hardcover</td>\n",
              "      <td>2009</td>\n",
              "      <td>Fiction</td>\n",
              "    </tr>\n",
              "    <tr>\n",
              "      <th>4</th>\n",
              "      <td>9.99</td>\n",
              "      <td>Going Rogue: An American Life</td>\n",
              "      <td>1572.0</td>\n",
              "      <td>4.6</td>\n",
              "      <td>Sarah Palin</td>\n",
              "      <td>Hardcover</td>\n",
              "      <td>2009</td>\n",
              "      <td>Non Fiction</td>\n",
              "    </tr>\n",
              "    <tr>\n",
              "      <th>5</th>\n",
              "      <td>18.29</td>\n",
              "      <td>StrengthsFinder 2.0</td>\n",
              "      <td>7082.0</td>\n",
              "      <td>4.1</td>\n",
              "      <td>Gallup</td>\n",
              "      <td>Hardcover</td>\n",
              "      <td>2009</td>\n",
              "      <td>Non Fiction</td>\n",
              "    </tr>\n",
              "    <tr>\n",
              "      <th>6</th>\n",
              "      <td>12.66</td>\n",
              "      <td>The Help</td>\n",
              "      <td>18068.0</td>\n",
              "      <td>4.8</td>\n",
              "      <td>Kathryn Stockett</td>\n",
              "      <td>Hardcover</td>\n",
              "      <td>2009</td>\n",
              "      <td>Fiction</td>\n",
              "    </tr>\n",
              "    <tr>\n",
              "      <th>7</th>\n",
              "      <td>17.56</td>\n",
              "      <td>New Moon (The Twilight Saga)</td>\n",
              "      <td>12329.0</td>\n",
              "      <td>4.7</td>\n",
              "      <td>Stephenie Meyer</td>\n",
              "      <td>Paperback</td>\n",
              "      <td>2009</td>\n",
              "      <td>Fiction</td>\n",
              "    </tr>\n",
              "    <tr>\n",
              "      <th>8</th>\n",
              "      <td>58.90</td>\n",
              "      <td>The Twilight Saga Collection</td>\n",
              "      <td>6100.0</td>\n",
              "      <td>4.7</td>\n",
              "      <td>Stephenie Meyer</td>\n",
              "      <td>Hardcover</td>\n",
              "      <td>2009</td>\n",
              "      <td>Fiction</td>\n",
              "    </tr>\n",
              "    <tr>\n",
              "      <th>9</th>\n",
              "      <td>16.04</td>\n",
              "      <td>Outliers: The Story of Success</td>\n",
              "      <td>22209.0</td>\n",
              "      <td>4.7</td>\n",
              "      <td>Malcolm Gladwell</td>\n",
              "      <td>Hardcover</td>\n",
              "      <td>2009</td>\n",
              "      <td>Non Fiction</td>\n",
              "    </tr>\n",
              "  </tbody>\n",
              "</table>\n",
              "</div>\n",
              "      <button class=\"colab-df-convert\" onclick=\"convertToInteractive('df-71d60194-6914-4797-994a-44fca783ab3a')\"\n",
              "              title=\"Convert this dataframe to an interactive table.\"\n",
              "              style=\"display:none;\">\n",
              "        \n",
              "  <svg xmlns=\"http://www.w3.org/2000/svg\" height=\"24px\"viewBox=\"0 0 24 24\"\n",
              "       width=\"24px\">\n",
              "    <path d=\"M0 0h24v24H0V0z\" fill=\"none\"/>\n",
              "    <path d=\"M18.56 5.44l.94 2.06.94-2.06 2.06-.94-2.06-.94-.94-2.06-.94 2.06-2.06.94zm-11 1L8.5 8.5l.94-2.06 2.06-.94-2.06-.94L8.5 2.5l-.94 2.06-2.06.94zm10 10l.94 2.06.94-2.06 2.06-.94-2.06-.94-.94-2.06-.94 2.06-2.06.94z\"/><path d=\"M17.41 7.96l-1.37-1.37c-.4-.4-.92-.59-1.43-.59-.52 0-1.04.2-1.43.59L10.3 9.45l-7.72 7.72c-.78.78-.78 2.05 0 2.83L4 21.41c.39.39.9.59 1.41.59.51 0 1.02-.2 1.41-.59l7.78-7.78 2.81-2.81c.8-.78.8-2.07 0-2.86zM5.41 20L4 18.59l7.72-7.72 1.47 1.35L5.41 20z\"/>\n",
              "  </svg>\n",
              "      </button>\n",
              "      \n",
              "  <style>\n",
              "    .colab-df-container {\n",
              "      display:flex;\n",
              "      flex-wrap:wrap;\n",
              "      gap: 12px;\n",
              "    }\n",
              "\n",
              "    .colab-df-convert {\n",
              "      background-color: #E8F0FE;\n",
              "      border: none;\n",
              "      border-radius: 50%;\n",
              "      cursor: pointer;\n",
              "      display: none;\n",
              "      fill: #1967D2;\n",
              "      height: 32px;\n",
              "      padding: 0 0 0 0;\n",
              "      width: 32px;\n",
              "    }\n",
              "\n",
              "    .colab-df-convert:hover {\n",
              "      background-color: #E2EBFA;\n",
              "      box-shadow: 0px 1px 2px rgba(60, 64, 67, 0.3), 0px 1px 3px 1px rgba(60, 64, 67, 0.15);\n",
              "      fill: #174EA6;\n",
              "    }\n",
              "\n",
              "    [theme=dark] .colab-df-convert {\n",
              "      background-color: #3B4455;\n",
              "      fill: #D2E3FC;\n",
              "    }\n",
              "\n",
              "    [theme=dark] .colab-df-convert:hover {\n",
              "      background-color: #434B5C;\n",
              "      box-shadow: 0px 1px 3px 1px rgba(0, 0, 0, 0.15);\n",
              "      filter: drop-shadow(0px 1px 2px rgba(0, 0, 0, 0.3));\n",
              "      fill: #FFFFFF;\n",
              "    }\n",
              "  </style>\n",
              "\n",
              "      <script>\n",
              "        const buttonEl =\n",
              "          document.querySelector('#df-71d60194-6914-4797-994a-44fca783ab3a button.colab-df-convert');\n",
              "        buttonEl.style.display =\n",
              "          google.colab.kernel.accessAllowed ? 'block' : 'none';\n",
              "\n",
              "        async function convertToInteractive(key) {\n",
              "          const element = document.querySelector('#df-71d60194-6914-4797-994a-44fca783ab3a');\n",
              "          const dataTable =\n",
              "            await google.colab.kernel.invokeFunction('convertToInteractive',\n",
              "                                                     [key], {});\n",
              "          if (!dataTable) return;\n",
              "\n",
              "          const docLinkHtml = 'Like what you see? Visit the ' +\n",
              "            '<a target=\"_blank\" href=https://colab.research.google.com/notebooks/data_table.ipynb>data table notebook</a>'\n",
              "            + ' to learn more about interactive tables.';\n",
              "          element.innerHTML = '';\n",
              "          dataTable['output_type'] = 'display_data';\n",
              "          await google.colab.output.renderOutput(dataTable, element);\n",
              "          const docLink = document.createElement('div');\n",
              "          docLink.innerHTML = docLinkHtml;\n",
              "          element.appendChild(docLink);\n",
              "        }\n",
              "      </script>\n",
              "    </div>\n",
              "  </div>\n",
              "  "
            ]
          },
          "metadata": {},
          "execution_count": 102
        }
      ]
    },
    {
      "cell_type": "code",
      "source": [
        "df.info()"
      ],
      "metadata": {
        "colab": {
          "base_uri": "https://localhost:8080/"
        },
        "id": "hUR2XiWp8-os",
        "outputId": "08108c74-d13b-4d20-fb10-6fbe3782850c"
      },
      "execution_count": null,
      "outputs": [
        {
          "output_type": "stream",
          "name": "stdout",
          "text": [
            "<class 'pandas.core.frame.DataFrame'>\n",
            "Int64Index: 1291 entries, 0 to 1290\n",
            "Data columns (total 8 columns):\n",
            " #   Column         Non-Null Count  Dtype  \n",
            "---  ------         --------------  -----  \n",
            " 0   price          1287 non-null   float64\n",
            " 1   title          1286 non-null   object \n",
            " 2   no_of_reviews  1287 non-null   float64\n",
            " 3   ratings        1287 non-null   float64\n",
            " 4   author         1286 non-null   object \n",
            " 5   cover_type     1286 non-null   object \n",
            " 6   year           1291 non-null   int64  \n",
            " 7   genre          1288 non-null   object \n",
            "dtypes: float64(3), int64(1), object(4)\n",
            "memory usage: 90.8+ KB\n"
          ]
        }
      ]
    },
    {
      "cell_type": "code",
      "source": [
        "df.shape"
      ],
      "metadata": {
        "colab": {
          "base_uri": "https://localhost:8080/"
        },
        "id": "b-SVIuHm9KtV",
        "outputId": "71004699-a57b-4257-d743-2b66e6c589dc"
      },
      "execution_count": null,
      "outputs": [
        {
          "output_type": "execute_result",
          "data": {
            "text/plain": [
              "(1291, 8)"
            ]
          },
          "metadata": {},
          "execution_count": 104
        }
      ]
    },
    {
      "cell_type": "code",
      "source": [
        "df[df['title'].isna()]"
      ],
      "metadata": {
        "colab": {
          "base_uri": "https://localhost:8080/",
          "height": 206
        },
        "id": "39SyylVc9qxb",
        "outputId": "08c76bba-a7c5-44b2-e44a-8f2b484cceb9"
      },
      "execution_count": null,
      "outputs": [
        {
          "output_type": "execute_result",
          "data": {
            "text/plain": [
              "      price title  no_of_reviews  ratings author cover_type  year    genre\n",
              "390     NaN   NaN            NaN      NaN    NaN        NaN  2012  unknown\n",
              "735     NaN   NaN            NaN      NaN    NaN        NaN  2016      NaN\n",
              "787     NaN   NaN            NaN      NaN    NaN        NaN  2016  Fiction\n",
              "868    9.45   NaN          833.0      4.6    NaN        NaN  2017  unknown\n",
              "1087    NaN   NaN            NaN      NaN    NaN        NaN  2019      NaN"
            ],
            "text/html": [
              "\n",
              "  <div id=\"df-83e4d1f0-1066-41e0-a73b-9ed5e0807faf\">\n",
              "    <div class=\"colab-df-container\">\n",
              "      <div>\n",
              "<style scoped>\n",
              "    .dataframe tbody tr th:only-of-type {\n",
              "        vertical-align: middle;\n",
              "    }\n",
              "\n",
              "    .dataframe tbody tr th {\n",
              "        vertical-align: top;\n",
              "    }\n",
              "\n",
              "    .dataframe thead th {\n",
              "        text-align: right;\n",
              "    }\n",
              "</style>\n",
              "<table border=\"1\" class=\"dataframe\">\n",
              "  <thead>\n",
              "    <tr style=\"text-align: right;\">\n",
              "      <th></th>\n",
              "      <th>price</th>\n",
              "      <th>title</th>\n",
              "      <th>no_of_reviews</th>\n",
              "      <th>ratings</th>\n",
              "      <th>author</th>\n",
              "      <th>cover_type</th>\n",
              "      <th>year</th>\n",
              "      <th>genre</th>\n",
              "    </tr>\n",
              "  </thead>\n",
              "  <tbody>\n",
              "    <tr>\n",
              "      <th>390</th>\n",
              "      <td>NaN</td>\n",
              "      <td>NaN</td>\n",
              "      <td>NaN</td>\n",
              "      <td>NaN</td>\n",
              "      <td>NaN</td>\n",
              "      <td>NaN</td>\n",
              "      <td>2012</td>\n",
              "      <td>unknown</td>\n",
              "    </tr>\n",
              "    <tr>\n",
              "      <th>735</th>\n",
              "      <td>NaN</td>\n",
              "      <td>NaN</td>\n",
              "      <td>NaN</td>\n",
              "      <td>NaN</td>\n",
              "      <td>NaN</td>\n",
              "      <td>NaN</td>\n",
              "      <td>2016</td>\n",
              "      <td>NaN</td>\n",
              "    </tr>\n",
              "    <tr>\n",
              "      <th>787</th>\n",
              "      <td>NaN</td>\n",
              "      <td>NaN</td>\n",
              "      <td>NaN</td>\n",
              "      <td>NaN</td>\n",
              "      <td>NaN</td>\n",
              "      <td>NaN</td>\n",
              "      <td>2016</td>\n",
              "      <td>Fiction</td>\n",
              "    </tr>\n",
              "    <tr>\n",
              "      <th>868</th>\n",
              "      <td>9.45</td>\n",
              "      <td>NaN</td>\n",
              "      <td>833.0</td>\n",
              "      <td>4.6</td>\n",
              "      <td>NaN</td>\n",
              "      <td>NaN</td>\n",
              "      <td>2017</td>\n",
              "      <td>unknown</td>\n",
              "    </tr>\n",
              "    <tr>\n",
              "      <th>1087</th>\n",
              "      <td>NaN</td>\n",
              "      <td>NaN</td>\n",
              "      <td>NaN</td>\n",
              "      <td>NaN</td>\n",
              "      <td>NaN</td>\n",
              "      <td>NaN</td>\n",
              "      <td>2019</td>\n",
              "      <td>NaN</td>\n",
              "    </tr>\n",
              "  </tbody>\n",
              "</table>\n",
              "</div>\n",
              "      <button class=\"colab-df-convert\" onclick=\"convertToInteractive('df-83e4d1f0-1066-41e0-a73b-9ed5e0807faf')\"\n",
              "              title=\"Convert this dataframe to an interactive table.\"\n",
              "              style=\"display:none;\">\n",
              "        \n",
              "  <svg xmlns=\"http://www.w3.org/2000/svg\" height=\"24px\"viewBox=\"0 0 24 24\"\n",
              "       width=\"24px\">\n",
              "    <path d=\"M0 0h24v24H0V0z\" fill=\"none\"/>\n",
              "    <path d=\"M18.56 5.44l.94 2.06.94-2.06 2.06-.94-2.06-.94-.94-2.06-.94 2.06-2.06.94zm-11 1L8.5 8.5l.94-2.06 2.06-.94-2.06-.94L8.5 2.5l-.94 2.06-2.06.94zm10 10l.94 2.06.94-2.06 2.06-.94-2.06-.94-.94-2.06-.94 2.06-2.06.94z\"/><path d=\"M17.41 7.96l-1.37-1.37c-.4-.4-.92-.59-1.43-.59-.52 0-1.04.2-1.43.59L10.3 9.45l-7.72 7.72c-.78.78-.78 2.05 0 2.83L4 21.41c.39.39.9.59 1.41.59.51 0 1.02-.2 1.41-.59l7.78-7.78 2.81-2.81c.8-.78.8-2.07 0-2.86zM5.41 20L4 18.59l7.72-7.72 1.47 1.35L5.41 20z\"/>\n",
              "  </svg>\n",
              "      </button>\n",
              "      \n",
              "  <style>\n",
              "    .colab-df-container {\n",
              "      display:flex;\n",
              "      flex-wrap:wrap;\n",
              "      gap: 12px;\n",
              "    }\n",
              "\n",
              "    .colab-df-convert {\n",
              "      background-color: #E8F0FE;\n",
              "      border: none;\n",
              "      border-radius: 50%;\n",
              "      cursor: pointer;\n",
              "      display: none;\n",
              "      fill: #1967D2;\n",
              "      height: 32px;\n",
              "      padding: 0 0 0 0;\n",
              "      width: 32px;\n",
              "    }\n",
              "\n",
              "    .colab-df-convert:hover {\n",
              "      background-color: #E2EBFA;\n",
              "      box-shadow: 0px 1px 2px rgba(60, 64, 67, 0.3), 0px 1px 3px 1px rgba(60, 64, 67, 0.15);\n",
              "      fill: #174EA6;\n",
              "    }\n",
              "\n",
              "    [theme=dark] .colab-df-convert {\n",
              "      background-color: #3B4455;\n",
              "      fill: #D2E3FC;\n",
              "    }\n",
              "\n",
              "    [theme=dark] .colab-df-convert:hover {\n",
              "      background-color: #434B5C;\n",
              "      box-shadow: 0px 1px 3px 1px rgba(0, 0, 0, 0.15);\n",
              "      filter: drop-shadow(0px 1px 2px rgba(0, 0, 0, 0.3));\n",
              "      fill: #FFFFFF;\n",
              "    }\n",
              "  </style>\n",
              "\n",
              "      <script>\n",
              "        const buttonEl =\n",
              "          document.querySelector('#df-83e4d1f0-1066-41e0-a73b-9ed5e0807faf button.colab-df-convert');\n",
              "        buttonEl.style.display =\n",
              "          google.colab.kernel.accessAllowed ? 'block' : 'none';\n",
              "\n",
              "        async function convertToInteractive(key) {\n",
              "          const element = document.querySelector('#df-83e4d1f0-1066-41e0-a73b-9ed5e0807faf');\n",
              "          const dataTable =\n",
              "            await google.colab.kernel.invokeFunction('convertToInteractive',\n",
              "                                                     [key], {});\n",
              "          if (!dataTable) return;\n",
              "\n",
              "          const docLinkHtml = 'Like what you see? Visit the ' +\n",
              "            '<a target=\"_blank\" href=https://colab.research.google.com/notebooks/data_table.ipynb>data table notebook</a>'\n",
              "            + ' to learn more about interactive tables.';\n",
              "          element.innerHTML = '';\n",
              "          dataTable['output_type'] = 'display_data';\n",
              "          await google.colab.output.renderOutput(dataTable, element);\n",
              "          const docLink = document.createElement('div');\n",
              "          docLink.innerHTML = docLinkHtml;\n",
              "          element.appendChild(docLink);\n",
              "        }\n",
              "      </script>\n",
              "    </div>\n",
              "  </div>\n",
              "  "
            ]
          },
          "metadata": {},
          "execution_count": 105
        }
      ]
    },
    {
      "cell_type": "code",
      "source": [
        "df = df.dropna(subset=['title'])"
      ],
      "metadata": {
        "id": "rp5IHjpx_rqs"
      },
      "execution_count": null,
      "outputs": []
    },
    {
      "cell_type": "code",
      "source": [
        "df.info()"
      ],
      "metadata": {
        "colab": {
          "base_uri": "https://localhost:8080/"
        },
        "id": "HWFSyOGcK53i",
        "outputId": "8fa28fea-e230-45ce-e148-4b9ed095cc43"
      },
      "execution_count": null,
      "outputs": [
        {
          "output_type": "stream",
          "name": "stdout",
          "text": [
            "<class 'pandas.core.frame.DataFrame'>\n",
            "Int64Index: 1286 entries, 0 to 1290\n",
            "Data columns (total 8 columns):\n",
            " #   Column         Non-Null Count  Dtype  \n",
            "---  ------         --------------  -----  \n",
            " 0   price          1286 non-null   float64\n",
            " 1   title          1286 non-null   object \n",
            " 2   no_of_reviews  1286 non-null   float64\n",
            " 3   ratings        1286 non-null   float64\n",
            " 4   author         1286 non-null   object \n",
            " 5   cover_type     1286 non-null   object \n",
            " 6   year           1286 non-null   int64  \n",
            " 7   genre          1285 non-null   object \n",
            "dtypes: float64(3), int64(1), object(4)\n",
            "memory usage: 90.4+ KB\n"
          ]
        }
      ]
    },
    {
      "cell_type": "code",
      "source": [
        "df[df['genre'].isna()]"
      ],
      "metadata": {
        "colab": {
          "base_uri": "https://localhost:8080/",
          "height": 81
        },
        "id": "8eloWpeE_lSG",
        "outputId": "dba312d8-d2bb-491c-e9a1-1ef7bdea576b"
      },
      "execution_count": null,
      "outputs": [
        {
          "output_type": "execute_result",
          "data": {
            "text/plain": [
              "      price                               title  no_of_reviews  ratings  \\\n",
              "1258   9.42  The Screaming Goat (Book & Figure)        30143.0      4.7   \n",
              "\n",
              "              author cover_type  year genre  \n",
              "1258  Running Press   Paperback  2021   NaN  "
            ],
            "text/html": [
              "\n",
              "  <div id=\"df-d5d9d16a-5fe0-4203-8362-08a42928e90e\">\n",
              "    <div class=\"colab-df-container\">\n",
              "      <div>\n",
              "<style scoped>\n",
              "    .dataframe tbody tr th:only-of-type {\n",
              "        vertical-align: middle;\n",
              "    }\n",
              "\n",
              "    .dataframe tbody tr th {\n",
              "        vertical-align: top;\n",
              "    }\n",
              "\n",
              "    .dataframe thead th {\n",
              "        text-align: right;\n",
              "    }\n",
              "</style>\n",
              "<table border=\"1\" class=\"dataframe\">\n",
              "  <thead>\n",
              "    <tr style=\"text-align: right;\">\n",
              "      <th></th>\n",
              "      <th>price</th>\n",
              "      <th>title</th>\n",
              "      <th>no_of_reviews</th>\n",
              "      <th>ratings</th>\n",
              "      <th>author</th>\n",
              "      <th>cover_type</th>\n",
              "      <th>year</th>\n",
              "      <th>genre</th>\n",
              "    </tr>\n",
              "  </thead>\n",
              "  <tbody>\n",
              "    <tr>\n",
              "      <th>1258</th>\n",
              "      <td>9.42</td>\n",
              "      <td>The Screaming Goat (Book &amp; Figure)</td>\n",
              "      <td>30143.0</td>\n",
              "      <td>4.7</td>\n",
              "      <td>Running Press</td>\n",
              "      <td>Paperback</td>\n",
              "      <td>2021</td>\n",
              "      <td>NaN</td>\n",
              "    </tr>\n",
              "  </tbody>\n",
              "</table>\n",
              "</div>\n",
              "      <button class=\"colab-df-convert\" onclick=\"convertToInteractive('df-d5d9d16a-5fe0-4203-8362-08a42928e90e')\"\n",
              "              title=\"Convert this dataframe to an interactive table.\"\n",
              "              style=\"display:none;\">\n",
              "        \n",
              "  <svg xmlns=\"http://www.w3.org/2000/svg\" height=\"24px\"viewBox=\"0 0 24 24\"\n",
              "       width=\"24px\">\n",
              "    <path d=\"M0 0h24v24H0V0z\" fill=\"none\"/>\n",
              "    <path d=\"M18.56 5.44l.94 2.06.94-2.06 2.06-.94-2.06-.94-.94-2.06-.94 2.06-2.06.94zm-11 1L8.5 8.5l.94-2.06 2.06-.94-2.06-.94L8.5 2.5l-.94 2.06-2.06.94zm10 10l.94 2.06.94-2.06 2.06-.94-2.06-.94-.94-2.06-.94 2.06-2.06.94z\"/><path d=\"M17.41 7.96l-1.37-1.37c-.4-.4-.92-.59-1.43-.59-.52 0-1.04.2-1.43.59L10.3 9.45l-7.72 7.72c-.78.78-.78 2.05 0 2.83L4 21.41c.39.39.9.59 1.41.59.51 0 1.02-.2 1.41-.59l7.78-7.78 2.81-2.81c.8-.78.8-2.07 0-2.86zM5.41 20L4 18.59l7.72-7.72 1.47 1.35L5.41 20z\"/>\n",
              "  </svg>\n",
              "      </button>\n",
              "      \n",
              "  <style>\n",
              "    .colab-df-container {\n",
              "      display:flex;\n",
              "      flex-wrap:wrap;\n",
              "      gap: 12px;\n",
              "    }\n",
              "\n",
              "    .colab-df-convert {\n",
              "      background-color: #E8F0FE;\n",
              "      border: none;\n",
              "      border-radius: 50%;\n",
              "      cursor: pointer;\n",
              "      display: none;\n",
              "      fill: #1967D2;\n",
              "      height: 32px;\n",
              "      padding: 0 0 0 0;\n",
              "      width: 32px;\n",
              "    }\n",
              "\n",
              "    .colab-df-convert:hover {\n",
              "      background-color: #E2EBFA;\n",
              "      box-shadow: 0px 1px 2px rgba(60, 64, 67, 0.3), 0px 1px 3px 1px rgba(60, 64, 67, 0.15);\n",
              "      fill: #174EA6;\n",
              "    }\n",
              "\n",
              "    [theme=dark] .colab-df-convert {\n",
              "      background-color: #3B4455;\n",
              "      fill: #D2E3FC;\n",
              "    }\n",
              "\n",
              "    [theme=dark] .colab-df-convert:hover {\n",
              "      background-color: #434B5C;\n",
              "      box-shadow: 0px 1px 3px 1px rgba(0, 0, 0, 0.15);\n",
              "      filter: drop-shadow(0px 1px 2px rgba(0, 0, 0, 0.3));\n",
              "      fill: #FFFFFF;\n",
              "    }\n",
              "  </style>\n",
              "\n",
              "      <script>\n",
              "        const buttonEl =\n",
              "          document.querySelector('#df-d5d9d16a-5fe0-4203-8362-08a42928e90e button.colab-df-convert');\n",
              "        buttonEl.style.display =\n",
              "          google.colab.kernel.accessAllowed ? 'block' : 'none';\n",
              "\n",
              "        async function convertToInteractive(key) {\n",
              "          const element = document.querySelector('#df-d5d9d16a-5fe0-4203-8362-08a42928e90e');\n",
              "          const dataTable =\n",
              "            await google.colab.kernel.invokeFunction('convertToInteractive',\n",
              "                                                     [key], {});\n",
              "          if (!dataTable) return;\n",
              "\n",
              "          const docLinkHtml = 'Like what you see? Visit the ' +\n",
              "            '<a target=\"_blank\" href=https://colab.research.google.com/notebooks/data_table.ipynb>data table notebook</a>'\n",
              "            + ' to learn more about interactive tables.';\n",
              "          element.innerHTML = '';\n",
              "          dataTable['output_type'] = 'display_data';\n",
              "          await google.colab.output.renderOutput(dataTable, element);\n",
              "          const docLink = document.createElement('div');\n",
              "          docLink.innerHTML = docLinkHtml;\n",
              "          element.appendChild(docLink);\n",
              "        }\n",
              "      </script>\n",
              "    </div>\n",
              "  </div>\n",
              "  "
            ]
          },
          "metadata": {},
          "execution_count": 108
        }
      ]
    },
    {
      "cell_type": "code",
      "source": [
        "df = df.dropna(subset=['genre'])\n",
        "df['no_of_reviews'] = df['no_of_reviews'].astype('int')"
      ],
      "metadata": {
        "id": "jXWYeS-J9Nay"
      },
      "execution_count": null,
      "outputs": []
    },
    {
      "cell_type": "code",
      "source": [
        "df.info()"
      ],
      "metadata": {
        "colab": {
          "base_uri": "https://localhost:8080/"
        },
        "id": "_d25Sm7a9YWn",
        "outputId": "6a783c49-6347-4cfb-e6ab-783f1f8e7552"
      },
      "execution_count": null,
      "outputs": [
        {
          "output_type": "stream",
          "name": "stdout",
          "text": [
            "<class 'pandas.core.frame.DataFrame'>\n",
            "Int64Index: 1285 entries, 0 to 1290\n",
            "Data columns (total 8 columns):\n",
            " #   Column         Non-Null Count  Dtype  \n",
            "---  ------         --------------  -----  \n",
            " 0   price          1285 non-null   float64\n",
            " 1   title          1285 non-null   object \n",
            " 2   no_of_reviews  1285 non-null   int64  \n",
            " 3   ratings        1285 non-null   float64\n",
            " 4   author         1285 non-null   object \n",
            " 5   cover_type     1285 non-null   object \n",
            " 6   year           1285 non-null   int64  \n",
            " 7   genre          1285 non-null   object \n",
            "dtypes: float64(2), int64(2), object(4)\n",
            "memory usage: 90.4+ KB\n"
          ]
        }
      ]
    },
    {
      "cell_type": "markdown",
      "source": [
        "## Гипотеза:  \n",
        "С каждым годом количество книг в жанре \"Фантастика\" увеличивается"
      ],
      "metadata": {
        "id": "oPFf8etM-xNE"
      }
    },
    {
      "cell_type": "code",
      "source": [
        "plt.figure(figsize=(20, 5))\n",
        "plt.title('Динамика жанра \"Фантастика\" по годам')\n",
        "plt.xlabel('Год')\n",
        "plt.ylabel('Кол-во книг в жанре')\n",
        "plt.grid(True)\n",
        "sns.lineplot(data=df.loc[df['genre']=='Fiction'].groupby('year')['genre'].count())\n",
        "plt.show()"
      ],
      "metadata": {
        "colab": {
          "base_uri": "https://localhost:8080/",
          "height": 350
        },
        "id": "nAjV3zCe-1yl",
        "outputId": "f22f8b90-f048-4ee2-d697-5fa70dc701cf"
      },
      "execution_count": null,
      "outputs": [
        {
          "output_type": "display_data",
          "data": {
            "text/plain": [
              "<Figure size 1440x360 with 1 Axes>"
            ],
            "image/png": "[encoded data removed]"
          },
          "metadata": {
            "needs_background": "light"
          }
        }
      ]
    },
    {
      "cell_type": "markdown",
      "source": [
        "Пик жанра был достигнут в 2014 году, ежегодного роста не наблюдается.  \n",
        "**Отвергаем нулевую гипотезу.**"
      ],
      "metadata": {
        "id": "DtECBI7-AUzN"
      }
    },
    {
      "cell_type": "markdown",
      "source": [
        "## Зависимости\n"
      ],
      "metadata": {
        "id": "uHRKFyboAsPn"
      }
    },
    {
      "cell_type": "code",
      "source": [
        "df.corr()"
      ],
      "metadata": {
        "colab": {
          "base_uri": "https://localhost:8080/",
          "height": 175
        },
        "id": "-C4KW33NAxcb",
        "outputId": "35154989-0bca-4f0e-cebf-4cd672113463"
      },
      "execution_count": null,
      "outputs": [
        {
          "output_type": "execute_result",
          "data": {
            "text/plain": [
              "                  price  no_of_reviews   ratings      year\n",
              "price          1.000000      -0.121694 -0.109528 -0.223079\n",
              "no_of_reviews -0.121694       1.000000  0.173148  0.426113\n",
              "ratings       -0.109528       0.173148  1.000000  0.292291\n",
              "year          -0.223079       0.426113  0.292291  1.000000"
            ],
            "text/html": [
              "\n",
              "  <div id=\"df-583be144-81de-4b74-a1ae-39aadfb73e7d\">\n",
              "    <div class=\"colab-df-container\">\n",
              "      <div>\n",
              "<style scoped>\n",
              "    .dataframe tbody tr th:only-of-type {\n",
              "        vertical-align: middle;\n",
              "    }\n",
              "\n",
              "    .dataframe tbody tr th {\n",
              "        vertical-align: top;\n",
              "    }\n",
              "\n",
              "    .dataframe thead th {\n",
              "        text-align: right;\n",
              "    }\n",
              "</style>\n",
              "<table border=\"1\" class=\"dataframe\">\n",
              "  <thead>\n",
              "    <tr style=\"text-align: right;\">\n",
              "      <th></th>\n",
              "      <th>price</th>\n",
              "      <th>no_of_reviews</th>\n",
              "      <th>ratings</th>\n",
              "      <th>year</th>\n",
              "    </tr>\n",
              "  </thead>\n",
              "  <tbody>\n",
              "    <tr>\n",
              "      <th>price</th>\n",
              "      <td>1.000000</td>\n",
              "      <td>-0.121694</td>\n",
              "      <td>-0.109528</td>\n",
              "      <td>-0.223079</td>\n",
              "    </tr>\n",
              "    <tr>\n",
              "      <th>no_of_reviews</th>\n",
              "      <td>-0.121694</td>\n",
              "      <td>1.000000</td>\n",
              "      <td>0.173148</td>\n",
              "      <td>0.426113</td>\n",
              "    </tr>\n",
              "    <tr>\n",
              "      <th>ratings</th>\n",
              "      <td>-0.109528</td>\n",
              "      <td>0.173148</td>\n",
              "      <td>1.000000</td>\n",
              "      <td>0.292291</td>\n",
              "    </tr>\n",
              "    <tr>\n",
              "      <th>year</th>\n",
              "      <td>-0.223079</td>\n",
              "      <td>0.426113</td>\n",
              "      <td>0.292291</td>\n",
              "      <td>1.000000</td>\n",
              "    </tr>\n",
              "  </tbody>\n",
              "</table>\n",
              "</div>\n",
              "      <button class=\"colab-df-convert\" onclick=\"convertToInteractive('df-583be144-81de-4b74-a1ae-39aadfb73e7d')\"\n",
              "              title=\"Convert this dataframe to an interactive table.\"\n",
              "              style=\"display:none;\">\n",
              "        \n",
              "  <svg xmlns=\"http://www.w3.org/2000/svg\" height=\"24px\"viewBox=\"0 0 24 24\"\n",
              "       width=\"24px\">\n",
              "    <path d=\"M0 0h24v24H0V0z\" fill=\"none\"/>\n",
              "    <path d=\"M18.56 5.44l.94 2.06.94-2.06 2.06-.94-2.06-.94-.94-2.06-.94 2.06-2.06.94zm-11 1L8.5 8.5l.94-2.06 2.06-.94-2.06-.94L8.5 2.5l-.94 2.06-2.06.94zm10 10l.94 2.06.94-2.06 2.06-.94-2.06-.94-.94-2.06-.94 2.06-2.06.94z\"/><path d=\"M17.41 7.96l-1.37-1.37c-.4-.4-.92-.59-1.43-.59-.52 0-1.04.2-1.43.59L10.3 9.45l-7.72 7.72c-.78.78-.78 2.05 0 2.83L4 21.41c.39.39.9.59 1.41.59.51 0 1.02-.2 1.41-.59l7.78-7.78 2.81-2.81c.8-.78.8-2.07 0-2.86zM5.41 20L4 18.59l7.72-7.72 1.47 1.35L5.41 20z\"/>\n",
              "  </svg>\n",
              "      </button>\n",
              "      \n",
              "  <style>\n",
              "    .colab-df-container {\n",
              "      display:flex;\n",
              "      flex-wrap:wrap;\n",
              "      gap: 12px;\n",
              "    }\n",
              "\n",
              "    .colab-df-convert {\n",
              "      background-color: #E8F0FE;\n",
              "      border: none;\n",
              "      border-radius: 50%;\n",
              "      cursor: pointer;\n",
              "      display: none;\n",
              "      fill: #1967D2;\n",
              "      height: 32px;\n",
              "      padding: 0 0 0 0;\n",
              "      width: 32px;\n",
              "    }\n",
              "\n",
              "    .colab-df-convert:hover {\n",
              "      background-color: #E2EBFA;\n",
              "      box-shadow: 0px 1px 2px rgba(60, 64, 67, 0.3), 0px 1px 3px 1px rgba(60, 64, 67, 0.15);\n",
              "      fill: #174EA6;\n",
              "    }\n",
              "\n",
              "    [theme=dark] .colab-df-convert {\n",
              "      background-color: #3B4455;\n",
              "      fill: #D2E3FC;\n",
              "    }\n",
              "\n",
              "    [theme=dark] .colab-df-convert:hover {\n",
              "      background-color: #434B5C;\n",
              "      box-shadow: 0px 1px 3px 1px rgba(0, 0, 0, 0.15);\n",
              "      filter: drop-shadow(0px 1px 2px rgba(0, 0, 0, 0.3));\n",
              "      fill: #FFFFFF;\n",
              "    }\n",
              "  </style>\n",
              "\n",
              "      <script>\n",
              "        const buttonEl =\n",
              "          document.querySelector('#df-583be144-81de-4b74-a1ae-39aadfb73e7d button.colab-df-convert');\n",
              "        buttonEl.style.display =\n",
              "          google.colab.kernel.accessAllowed ? 'block' : 'none';\n",
              "\n",
              "        async function convertToInteractive(key) {\n",
              "          const element = document.querySelector('#df-583be144-81de-4b74-a1ae-39aadfb73e7d');\n",
              "          const dataTable =\n",
              "            await google.colab.kernel.invokeFunction('convertToInteractive',\n",
              "                                                     [key], {});\n",
              "          if (!dataTable) return;\n",
              "\n",
              "          const docLinkHtml = 'Like what you see? Visit the ' +\n",
              "            '<a target=\"_blank\" href=https://colab.research.google.com/notebooks/data_table.ipynb>data table notebook</a>'\n",
              "            + ' to learn more about interactive tables.';\n",
              "          element.innerHTML = '';\n",
              "          dataTable['output_type'] = 'display_data';\n",
              "          await google.colab.output.renderOutput(dataTable, element);\n",
              "          const docLink = document.createElement('div');\n",
              "          docLink.innerHTML = docLinkHtml;\n",
              "          element.appendChild(docLink);\n",
              "        }\n",
              "      </script>\n",
              "    </div>\n",
              "  </div>\n",
              "  "
            ]
          },
          "metadata": {},
          "execution_count": 113
        }
      ]
    },
    {
      "cell_type": "markdown",
      "source": [
        "Видим, что наибольший коэффицент корреляции по всему датасету имеет связка года выпуска и количества ревью.  \n",
        "Рассмотрим её подробнее."
      ],
      "metadata": {
        "id": "RAMT2LTVA9nw"
      }
    },
    {
      "cell_type": "code",
      "source": [
        "plt.figure(figsize=(20, 5))\n",
        "plt.title('Динамика количества ревью по годам')\n",
        "plt.xlabel('Год')\n",
        "plt.ylabel('Кол-во ревью в год')\n",
        "plt.grid(True)\n",
        "sns.lineplot(data=df.groupby('year')['no_of_reviews'].mean())\n",
        "plt.show()"
      ],
      "metadata": {
        "colab": {
          "base_uri": "https://localhost:8080/",
          "height": 350
        },
        "id": "Cb1ogr8hBe1q",
        "outputId": "29eae86d-c922-4383-fa47-1430319807f3"
      },
      "execution_count": null,
      "outputs": [
        {
          "output_type": "display_data",
          "data": {
            "text/plain": [
              "<Figure size 1440x360 with 1 Axes>"
            ],
            "image/png": "[encoded data removed]"
          },
          "metadata": {
            "needs_background": "light"
          }
        }
      ]
    },
    {
      "cell_type": "code",
      "source": [
        "plt.figure(figsize=(15,10))\n",
        "plt.title('Диаграмма рассеяния количества ревью и годов выпуска')\n",
        "plt.xlabel('Год')\n",
        "plt.ylabel('Кол-во ревью')\n",
        "plt.grid(True)\n",
        "sns.scatterplot(data=df, y=df['no_of_reviews'], x=df['year'])\n",
        "plt.show()"
      ],
      "metadata": {
        "colab": {
          "base_uri": "https://localhost:8080/",
          "height": 621
        },
        "id": "U0YDUfHIBIIb",
        "outputId": "bbc06236-c50c-4489-f245-37e1c911f60b"
      },
      "execution_count": null,
      "outputs": [
        {
          "output_type": "display_data",
          "data": {
            "text/plain": [
              "<Figure size 1080x720 with 1 Axes>"
            ],
            "image/png": "[encoded data removed]"
          },
          "metadata": {
            "needs_background": "light"
          }
        }
      ]
    },
    {
      "cell_type": "markdown",
      "source": [
        "Сложно сказать о наличии строгой линейной зависимости, однако по графикам чётко прослеживается рост количества ревью c течением времени."
      ],
      "metadata": {
        "id": "RsNzy9d7C-KH"
      }
    }
  ]
}